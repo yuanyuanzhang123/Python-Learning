{
 "cells": [
  {
   "cell_type": "code",
   "execution_count": 3,
   "metadata": {},
   "outputs": [
    {
     "name": "stdout",
     "output_type": "stream",
     "text": [
      "8\n"
     ]
    }
   ],
   "source": [
    "import numpy as np\n",
    "#标量\n",
    "s = np.array(5)\n",
    "print(s.shape)\n",
    "\n",
    "x = s + 3\n",
    "print(x)"
   ]
  },
  {
   "cell_type": "code",
   "execution_count": 5,
   "metadata": {},
   "outputs": [
    {
     "name": "stdout",
     "output_type": "stream",
     "text": [
      "(4,)\n",
      "2\n",
      "[2 3 4]\n"
     ]
    }
   ],
   "source": [
    "#向量\n",
    "s2 = np.array([1,2,3,4])\n",
    "print(s2.shape)\n",
    "print(s2[1])\n",
    "print(s2[1:])"
   ]
  },
  {
   "cell_type": "code",
   "execution_count": 7,
   "metadata": {},
   "outputs": [
    {
     "name": "stdout",
     "output_type": "stream",
     "text": [
      "(3, 3)\n"
     ]
    }
   ],
   "source": [
    "#矩阵\n",
    "s3 = np.array([[1,2,3],[4,5,6],[7,8,9]])\n",
    "print(s3.shape)"
   ]
  },
  {
   "cell_type": "code",
   "execution_count": 9,
   "metadata": {},
   "outputs": [
    {
     "name": "stdout",
     "output_type": "stream",
     "text": [
      "(3, 3, 2, 1)\n"
     ]
    }
   ],
   "source": [
    "#张量\n",
    "t = np.array([[[[1],[2]],[[3],[4]],[[5],[6]]],[[[7],[8]],\\\n",
    "    [[9],[10]],[[11],[12]]],[[[13],[14]],[[15],[16]],[[17],[17]]]])\n",
    "print(t.shape)"
   ]
  },
  {
   "cell_type": "code",
   "execution_count": 16,
   "metadata": {},
   "outputs": [
    {
     "name": "stdout",
     "output_type": "stream",
     "text": [
      "[1 2 3 4]\n",
      "(4,)\n",
      "[[1]\n",
      " [2]\n",
      " [3]\n",
      " [4]]\n",
      "(4, 1)\n",
      "[[1 2 3 4]]\n",
      "(1, 4)\n",
      "[[1 2 3 4]]\n",
      "(1, 4)\n",
      "[[1]\n",
      " [2]\n",
      " [3]\n",
      " [4]]\n",
      "(4, 1)\n"
     ]
    }
   ],
   "source": [
    "#更改形状\n",
    "a = np.array([1,2,3,4])\n",
    "print(a)\n",
    "print(a.shape)\n",
    "x = a.reshape(4,1)\n",
    "print(x)\n",
    "print(x.shape)\n",
    "y = a.reshape(1,4)\n",
    "print(y)\n",
    "print(y.shape)\n",
    "#创建一个切片，查看 a 的所有项目，要求 NumPy 为相关轴添加大小为 1 的新维度\n",
    "x2 = a[None, :]\n",
    "print(x2)\n",
    "print(x2.shape)\n",
    "y2 = a[:,None]\n",
    "print(y2)\n",
    "print(y2.shape)"
   ]
  },
  {
   "cell_type": "code",
   "execution_count": 20,
   "metadata": {},
   "outputs": [
    {
     "name": "stdout",
     "output_type": "stream",
     "text": [
      "[6, 7, 8, 9, 10]\n",
      "[ 6  7  8  9 10]\n",
      "[12 14 16 18 20]\n",
      "[24 28 32 36 40]\n"
     ]
    }
   ],
   "source": [
    "#元素级运算\n",
    "#python\n",
    "values = [1,2,3,4,5]\n",
    "for i in range(len(values)):\n",
    "    values[i] += 5\n",
    "print(values)\n",
    "#numpy\n",
    "values = [1,2,3,4,5]\n",
    "values = np.array(values)\n",
    "values += 5\n",
    "print(values)\n",
    "#支持加减乘除\n",
    "values = np.multiply(values,2)#same as below\n",
    "print(values)\n",
    "values *= 2\n",
    "print(values)"
   ]
  },
  {
   "cell_type": "code",
   "execution_count": 24,
   "metadata": {},
   "outputs": [
    {
     "name": "stdout",
     "output_type": "stream",
     "text": [
      "[[3 5 7]\n",
      " [3 5 7]]\n",
      "[[2 4 6]\n",
      " [2 4 6]]\n",
      "[[3 6 9]\n",
      " [3 6 9]]\n"
     ]
    }
   ],
   "source": [
    "#元素级矩阵运算\n",
    "a = np.array([[1,2,3],[1,2,3]])\n",
    "b = np.array([[2,3,4],[2,3,4]])\n",
    "print(a+b)\n",
    "print(a*2)\n",
    "print(np.multiply(a,3))"
   ]
  },
  {
   "cell_type": "code",
   "execution_count": 34,
   "metadata": {},
   "outputs": [
    {
     "name": "stdout",
     "output_type": "stream",
     "text": [
      "a.shape  (2, 4)\n",
      "b.shape  (4, 3)\n",
      "4\n",
      "3\n",
      "[[ 70  80  90]\n",
      " [158 184 210]]\n",
      "c.shape  (2, 3)\n",
      "[[ 70  80  90]\n",
      " [158 184 210]]\n"
     ]
    }
   ],
   "source": [
    "#矩阵乘积\n",
    "a = np.array([[1,2,3,4],[5,6,7,8]])\n",
    "print('a.shape ',a.shape)\n",
    "b = np.array([[1,2,3],[4,5,6],[7,8,9],[10,11,12]])\n",
    "print('b.shape ',b.shape)\n",
    "print(b.shape[0])\n",
    "print(b.shape[1])\n",
    "c = np.matmul(a, b)\n",
    "print(c)\n",
    "print('c.shape ',c.shape)\n",
    "#dot只有在2-D的时候等同于matmul\n",
    "#For 2-D arrays it is equivalent to matrix multiplication, and for 1-D arrays to inner product of vectors \n",
    "#(without complex conjugation). For N dimensions it is a sum product over the last axis of a and the second-to-last of b:\n",
    "d = np.dot(a,b)\n",
    "print(d)"
   ]
  },
  {
   "cell_type": "code",
   "execution_count": 30,
   "metadata": {},
   "outputs": [
    {
     "name": "stdout",
     "output_type": "stream",
     "text": [
      "[[1 4]\n",
      " [2 5]\n",
      " [3 6]\n",
      " [4 7]]\n"
     ]
    }
   ],
   "source": [
    "#矩阵转置,是视图，不是copy,所以虽然高效，但是修改的时候要注意\n",
    "a = np.array([[1,2,3,4],[4,5,6,7]])\n",
    "print(a.T)"
   ]
  },
  {
   "cell_type": "code",
   "execution_count": 38,
   "metadata": {},
   "outputs": [
    {
     "name": "stdout",
     "output_type": "stream",
     "text": [
      "[-1, 2, 7]\n",
      "Input as Array: [[-1  2  7]]\n",
      "Input minus min: [[0 3 8]]\n",
      "Input  Array: [[ 0.     0.375  1.   ]]\n",
      "Multiply 1:\n",
      "False\n",
      "Multiply 2:\n",
      "[[14]\n",
      " [32]]\n",
      "Multiply 3:\n",
      "[[ 9 12 15]]\n",
      "Mean == 2.6666666666666665\n"
     ]
    }
   ],
   "source": [
    "# Use the numpy library\n",
    "import numpy as np\n",
    "\n",
    "\n",
    "def prepare_inputs(inputs):\n",
    "    # TODO: create a 2-dimensional ndarray from the given 1-dimensional list;\n",
    "    #       assign it to input_array\n",
    "    print(inputs)\n",
    "    input_array = np.array([inputs])\n",
    "    \n",
    "    # TODO: find the minimum value in input_array and subtract that\n",
    "    #       value from all the elements of input_array. Store the\n",
    "    #       result in inputs_minus_min\n",
    "    inputs_minus_min = input_array - np.min(input_array)\n",
    "\n",
    "    # TODO: find the maximum value in inputs_minus_min and divide\n",
    "    #       all of the values in inputs_minus_min by the maximum value.\n",
    "    #       Store the results in inputs_div_max.\n",
    "    max_num = np.max(inputs_minus_min)\n",
    "    inputs_div_max = inputs_minus_min / max_num\n",
    "\n",
    "    # return the three arrays we've created\n",
    "    return input_array, inputs_minus_min, inputs_div_max\n",
    "    \n",
    "\n",
    "def multiply_inputs(m1, m2):\n",
    "    # TODO: Check the shapes of the matrices m1 and m2. \n",
    "    #       m1 and m2 will be ndarray objects.\n",
    "    #\n",
    "    #       Return False if the shapes cannot be used for matrix\n",
    "    #       multiplication. You may not use a transpose\n",
    "    if m1.shape[0]!= m2.shape[1] and m1.shape[1]!= m2.shape[0]:\n",
    "        return False\n",
    "\n",
    "\n",
    "    # TODO: If you have not returned False, then calculate the matrix product\n",
    "    #       of m1 and m2 and return it. Do not use a transpose,\n",
    "    #       but you swap their order if necessary\n",
    "    if m1.shape[1] == m2.shape[0]:\n",
    "        return np.matmul(m1,m2)\n",
    "    else:\n",
    "        return np.matmul(m2,m1)\n",
    "    \n",
    "    \n",
    "\n",
    "def find_mean(values):\n",
    "    # TODO: Return the average of the values in the given Python list\n",
    "    return np.mean(values)\n",
    "\n",
    "\n",
    "input_array, inputs_minus_min, inputs_div_max = prepare_inputs([-1,2,7])\n",
    "print(\"Input as Array: {}\".format(input_array))\n",
    "print(\"Input minus min: {}\".format(inputs_minus_min))\n",
    "print(\"Input  Array: {}\".format(inputs_div_max))\n",
    "\n",
    "print(\"Multiply 1:\\n{}\".format(multiply_inputs(np.array([[1,2,3],[4,5,6]]), np.array([[1],[2],[3],[4]]))))\n",
    "print(\"Multiply 2:\\n{}\".format(multiply_inputs(np.array([[1,2,3],[4,5,6]]), np.array([[1],[2],[3]]))))\n",
    "print(\"Multiply 3:\\n{}\".format(multiply_inputs(np.array([[1,2,3],[4,5,6]]), np.array([[1,2]]))))\n",
    "\n",
    "print(\"Mean == {}\".format(find_mean([1,3,4])))"
   ]
  },
  {
   "cell_type": "code",
   "execution_count": null,
   "metadata": {
    "collapsed": true
   },
   "outputs": [],
   "source": []
  }
 ],
 "metadata": {
  "kernelspec": {
   "display_name": "Python 3",
   "language": "python",
   "name": "python3"
  },
  "language_info": {
   "codemirror_mode": {
    "name": "ipython",
    "version": 3
   },
   "file_extension": ".py",
   "mimetype": "text/x-python",
   "name": "python",
   "nbconvert_exporter": "python",
   "pygments_lexer": "ipython3",
   "version": "3.6.2"
  }
 },
 "nbformat": 4,
 "nbformat_minor": 2
}
