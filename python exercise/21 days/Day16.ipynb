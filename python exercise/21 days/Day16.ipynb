{
 "cells": [
  {
   "cell_type": "code",
   "execution_count": 4,
   "metadata": {},
   "outputs": [
    {
     "name": "stdout",
     "output_type": "stream",
     "text": [
      "0    1.0\n",
      "1    2.0\n",
      "2    3.0\n",
      "3    4.0\n",
      "dtype: float64\n",
      "RangeIndex(start=0, stop=4, step=1)\n",
      "[ 1.  2.  3.  4.]\n"
     ]
    }
   ],
   "source": [
    "import pandas as pd\n",
    "s = pd.Series([1.0,2.0,3.0,4.0])\n",
    "print(s)\n",
    "\n",
    "print(s.index)\n",
    "print(s.values)"
   ]
  },
  {
   "cell_type": "code",
   "execution_count": 7,
   "metadata": {},
   "outputs": [
    {
     "name": "stdout",
     "output_type": "stream",
     "text": [
      "a    0\n",
      "b    1\n",
      "c    2\n",
      "d    3\n",
      "dtype: int32\n",
      "2\n"
     ]
    }
   ],
   "source": [
    "import numpy as np\n",
    "s2 = pd.Series(np.arange(4),index=['a','b','c','d'])\n",
    "print(s2)\n",
    "print(s2['c'])"
   ]
  },
  {
   "cell_type": "code",
   "execution_count": 10,
   "metadata": {},
   "outputs": [
    {
     "name": "stdout",
     "output_type": "stream",
     "text": [
      "one      12.00\n",
      "three    34.67\n",
      "two      13.40\n",
      "dtype: float64\n",
      "12.0\n",
      "one      120.0\n",
      "three    346.7\n",
      "two      134.0\n",
      "dtype: float64\n"
     ]
    }
   ],
   "source": [
    "#字典\n",
    "s3 = pd.Series({'one':12,\"two\":13.4,\"three\":34.67})\n",
    "print(s3)\n",
    "print(s3['one'])\n",
    "print(s3*10)"
   ]
  },
  {
   "cell_type": "code",
   "execution_count": 24,
   "metadata": {},
   "outputs": [
    {
     "name": "stdout",
     "output_type": "stream",
     "text": [
      "     A  B  C\n",
      "0  one  a  0\n",
      "1  one  b  1\n",
      "2  two  a  2\n",
      "3  two  b  3\n",
      "       C\n",
      "A   B   \n",
      "one a  0\n",
      "    b  1\n",
      "two a  2\n",
      "    b  3 \n",
      "\n",
      "B    a  b\n",
      "A        \n",
      "one  0  1\n",
      "two  2  3 \n",
      "\n",
      "     A  B  C\n",
      "0  one  a  0\n",
      "1  one  b  1\n",
      "2  two  a  2\n",
      "3  two  b  3\n"
     ]
    }
   ],
   "source": [
    "df = pd.DataFrame({'A':['one', 'one', 'two', 'two'], 'B':['a', 'b', 'a', 'b'], 'C':range(4)})\n",
    "print(df)\n",
    "df = df.set_index(['A','B'])\n",
    "print(df,'\\n')\n",
    "result = df['C'].unstack()\n",
    "print(result,'\\n')\n",
    "df = result.stack().reset_index(name = 'C')\n",
    "print(df)"
   ]
  },
  {
   "cell_type": "markdown",
   "metadata": {
    "collapsed": true
   },
   "source": [
    "stack:\n",
    "将行索引旋转为列索引，完成层级索引\n",
    "unstack:\n",
    "unstack会默认多层索引的series转变为DataFrame，默认情况下是对内索引进行操作，即将内所有转变为DataFrame的列索引。\n",
    "也可以指定操作的索引级别。lavel=0表示操作外层索引。"
   ]
  },
  {
   "cell_type": "code",
   "execution_count": 21,
   "metadata": {},
   "outputs": [
    {
     "name": "stdout",
     "output_type": "stream",
     "text": [
      "   data1  data2\n",
      "0      6      4\n",
      "1      4      5\n",
      "2      2      8\n",
      "3      1      5\n",
      "4      2      8 \n",
      "\n",
      "<class 'pandas.core.frame.DataFrame'>\n",
      "<class 'pandas.core.indexes.range.RangeIndex'>\n",
      "0  data1    6\n",
      "   data2    4\n",
      "1  data1    4\n",
      "   data2    5\n",
      "2  data1    2\n",
      "   data2    8\n",
      "3  data1    1\n",
      "   data2    5\n",
      "4  data1    2\n",
      "   data2    8\n",
      "dtype: int32\n",
      "<class 'pandas.core.series.Series'>\n",
      "<class 'pandas.core.indexes.multi.MultiIndex'>\n",
      "0  data1    6\n",
      "   data2    4\n",
      "1  data1    4\n",
      "   data2    5\n",
      "2  data1    2\n",
      "   data2    8\n",
      "3  data1    1\n",
      "   data2    5\n",
      "4  data1    2\n",
      "   data2    8\n",
      "dtype: int32\n",
      "   data1  data2\n",
      "0      6      4\n",
      "1      4      5\n",
      "2      2      8\n",
      "3      1      5\n",
      "4      2      8\n",
      "       0  1  2  3  4\n",
      "data1  6  4  2  1  2\n",
      "data2  4  5  8  5  8\n"
     ]
    }
   ],
   "source": [
    "import pandas as pd\n",
    "import numpy as np\n",
    "df_obj = pd.DataFrame(np.random.randint(0,10, (5,2)), columns=['data1', 'data2'])\n",
    "print(df_obj,'\\n')\n",
    "print(type(df_obj))\n",
    "print(type(df_obj.index))\n",
    "print(df_obj.stack())\n",
    "print( type(df_obj.stack()))\n",
    "print(type(df_obj.stack().index))\n",
    "#发现已经从DataFrame转变为了Series类型\n",
    "#打印新数据的Index的类型，发现索引的格式变成了多层索引了\n",
    "stacked = df_obj.stack()\n",
    "print(stacked)\n",
    "#默认操作内层索引\n",
    "print(stacked.unstack())\n",
    "#通过level指定操作索引的级别\n",
    "print(stacked.unstack(level=0))"
   ]
  },
  {
   "cell_type": "markdown",
   "metadata": {},
   "source": [
    "pivot其实等同于：用set_index创建层次化索引，再用unstack重塑"
   ]
  },
  {
   "cell_type": "code",
   "execution_count": 25,
   "metadata": {},
   "outputs": [
    {
     "name": "stdout",
     "output_type": "stream",
     "text": [
      "B    a  b\n",
      "A        \n",
      "one  0  1\n",
      "two  2  3\n"
     ]
    }
   ],
   "source": [
    "print(df.pivot(index='A',columns='B',values='C'))\n",
    "#等同于【24】先set_index，再unstack"
   ]
  },
  {
   "cell_type": "code",
   "execution_count": 28,
   "metadata": {},
   "outputs": [
    {
     "name": "stdout",
     "output_type": "stream",
     "text": [
      "   data key\n",
      "0     0   A\n",
      "1     5   B\n",
      "2    10   C\n",
      "3     5   A\n",
      "4    10   B\n",
      "5    15   C\n",
      "6    10   A\n",
      "7    15   B\n",
      "8    20   C\n",
      "     data\n",
      "key      \n",
      "A      15\n",
      "B      30\n",
      "C      45\n",
      "     data\n",
      "key      \n",
      "A      15\n",
      "B      30\n",
      "C      45\n"
     ]
    }
   ],
   "source": [
    "df = pd.DataFrame({'key':['A','B','C','A','B','C','A','B','C'],\n",
    "                   'data': [0, 5, 10, 5, 10, 15, 10, 15, 20]})\n",
    "print(df)\n",
    "print(df.groupby('key').aggregate('sum') ) # np.sum\n",
    "print(df.groupby('key').sum())"
   ]
  },
  {
   "cell_type": "code",
   "execution_count": null,
   "metadata": {
    "collapsed": true
   },
   "outputs": [],
   "source": []
  }
 ],
 "metadata": {
  "kernelspec": {
   "display_name": "Python [default]",
   "language": "python",
   "name": "python3"
  },
  "language_info": {
   "codemirror_mode": {
    "name": "ipython",
    "version": 3
   },
   "file_extension": ".py",
   "mimetype": "text/x-python",
   "name": "python",
   "nbconvert_exporter": "python",
   "pygments_lexer": "ipython3",
   "version": "3.6.2"
  }
 },
 "nbformat": 4,
 "nbformat_minor": 2
}
