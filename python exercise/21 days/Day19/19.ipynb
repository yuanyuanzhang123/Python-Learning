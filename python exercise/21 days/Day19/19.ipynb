{
 "cells": [
  {
   "cell_type": "code",
   "execution_count": 10,
   "metadata": {
    "scrolled": false
   },
   "outputs": [
    {
     "name": "stdout",
     "output_type": "stream",
     "text": [
      "<class 'pandas.core.frame.DataFrame'>\n",
      "1640\n",
      "   account_key    status   join_date cancel_date  days_to_cancel  is_udacity  \\\n",
      "0          448  canceled  2014-11-10  2015-01-14            65.0        True   \n",
      "1          448  canceled  2014-11-05  2014-11-10             5.0        True   \n",
      "2          448  canceled  2015-01-27  2015-01-27             0.0        True   \n",
      "3          448  canceled  2014-11-10  2014-11-10             0.0        True   \n",
      "4          448   current  2015-03-10         NaN             NaN        True   \n",
      "\n",
      "   is_canceled  \n",
      "0         True  \n",
      "1         True  \n",
      "2         True  \n",
      "3         True  \n",
      "4        False  \n",
      "1302\n"
     ]
    }
   ],
   "source": [
    "import pandas as pd\n",
    "import numpy as np\n",
    "#读取csv文件，统计总行数以及第一列去重后的数量\n",
    "enrollments = pd.read_csv('./enrollments.csv')\n",
    "    \n",
    "### For each of these three tables, find the number of rows in the table and\n",
    "### the number of unique students in the table. To find the number of unique\n",
    "### students, you might want to create a set of the account keys in each table.\n",
    "print(type(enrollments))\n",
    "#print(enrollments['account_key'])\n",
    "enrollment_num_rows = len(enrollments)             # Replace this with your code\n",
    "print(enrollment_num_rows)\n",
    "print(enrollments.head())\n",
    "num = enrollments.groupby('account_key')\n",
    "enrollment_num_unique_students = len(num)  # Replace this with your code\n",
    "print(enrollment_num_unique_students)\n"
   ]
  },
  {
   "cell_type": "code",
   "execution_count": null,
   "metadata": {
    "collapsed": true
   },
   "outputs": [],
   "source": []
  }
 ],
 "metadata": {
  "kernelspec": {
   "display_name": "Python [conda env:py3]",
   "language": "python",
   "name": "conda-env-py3-py"
  },
  "language_info": {
   "codemirror_mode": {
    "name": "ipython",
    "version": 3
   },
   "file_extension": ".py",
   "mimetype": "text/x-python",
   "name": "python",
   "nbconvert_exporter": "python",
   "pygments_lexer": "ipython3",
   "version": "3.6.2"
  }
 },
 "nbformat": 4,
 "nbformat_minor": 2
}
