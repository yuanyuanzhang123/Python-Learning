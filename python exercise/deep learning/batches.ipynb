{
 "cells": [
  {
   "cell_type": "code",
   "execution_count": 20,
   "metadata": {},
   "outputs": [
    {
     "name": "stdout",
     "output_type": "stream",
     "text": [
      "[ 1  2  3  4  5  6  7  8  9 10 11 12 13 14 15 16 17 18]\n",
      "[ 1  2  3  4  5  6  7  8  9 10 11 12 13 14 15 16 17 18]\n",
      "[ 2  3  4  5  6  7  8  9 10 11 12 13 14 15 16 17 18  1]\n",
      "[array([1, 2]), array([3, 4]), array([5, 6]), array([7, 8]), array([ 9, 10]), array([11, 12]), array([13, 14]), array([15, 16]), array([17, 18])]\n",
      "[array([2, 3]), array([4, 5]), array([6, 7]), array([8, 9]), array([10, 11]), array([12, 13]), array([14, 15]), array([16, 17]), array([18,  1])]\n",
      "[[ 1.  2.]\n",
      " [ 0.  0.]\n",
      " [ 0.  0.]]\n",
      "[[ 1.  2.]\n",
      " [ 7.  8.]\n",
      " [ 0.  0.]]\n",
      "[[  1.   2.]\n",
      " [  7.   8.]\n",
      " [ 13.  14.]]\n",
      "[[  3.   4.]\n",
      " [  7.   8.]\n",
      " [ 13.  14.]]\n",
      "[[  3.   4.]\n",
      " [  9.  10.]\n",
      " [ 13.  14.]]\n",
      "[[  3.   4.]\n",
      " [  9.  10.]\n",
      " [ 15.  16.]]\n",
      "[[  5.   6.]\n",
      " [  9.  10.]\n",
      " [ 15.  16.]]\n",
      "[[  5.   6.]\n",
      " [ 11.  12.]\n",
      " [ 15.  16.]]\n",
      "[[  5.   6.]\n",
      " [ 11.  12.]\n",
      " [ 17.  18.]]\n",
      "[[[[ 1  2]\n",
      "   [ 7  8]\n",
      "   [13 14]]\n",
      "\n",
      "  [[ 2  3]\n",
      "   [ 8  9]\n",
      "   [14 15]]]\n",
      "\n",
      "\n",
      " [[[ 3  4]\n",
      "   [ 9 10]\n",
      "   [15 16]]\n",
      "\n",
      "  [[ 4  5]\n",
      "   [10 11]\n",
      "   [16 17]]]\n",
      "\n",
      "\n",
      " [[[ 5  6]\n",
      "   [11 12]\n",
      "   [17 18]]\n",
      "\n",
      "  [[ 6  7]\n",
      "   [12 13]\n",
      "   [18  1]]]]\n"
     ]
    }
   ],
   "source": [
    "import numpy as np\n",
    "test = np.array([1,2,3,4,5,6,7,8,9,10,11,12,13,14,15,16,17,18,19])\n",
    "batch_size = 3\n",
    "seq_len = 2\n",
    "batch_len = len(test)//(batch_size*seq_len)\n",
    "test = test[:batch_len*batch_size*seq_len]\n",
    "print(test)\n",
    "x=np.array(test,dtype=np.int)\n",
    "print(x)\n",
    "y=np.array([test[i+1] if i<len(test)-1 else test[0] for i in range(len(test))],dtype=np.int)\n",
    "print(y)\n",
    "batches_x = np.split(x,len(x)/seq_len)\n",
    "batches_y = np.split(y,len(y)/seq_len)\n",
    "print(batches_x)\n",
    "print(batches_y)\n",
    "batch_x = np.zeros((batch_size,seq_len))\n",
    "batch_y = np.zeros((batch_size,seq_len))\n",
    "batches = np.zeros([batch_len,2,batch_size,seq_len],dtype=np.int)\n",
    "for i in range(batch_len):\n",
    "    for ii in range(batch_size):\n",
    "        batch_x[ii] = batches_x[ii*batch_len + i]\n",
    "        batch_y[ii] = batches_y[ii*batch_len + i]\n",
    "        print(batch_x)\n",
    "    batches[i]=[batch_x,batch_y]\n",
    "    #print(batches[i])\n",
    "print(batches)"
   ]
  },
  {
   "cell_type": "code",
   "execution_count": null,
   "metadata": {
    "collapsed": true
   },
   "outputs": [],
   "source": []
  }
 ],
 "metadata": {
  "kernelspec": {
   "display_name": "Python 3",
   "language": "python",
   "name": "python3"
  },
  "language_info": {
   "codemirror_mode": {
    "name": "ipython",
    "version": 3
   },
   "file_extension": ".py",
   "mimetype": "text/x-python",
   "name": "python",
   "nbconvert_exporter": "python",
   "pygments_lexer": "ipython3",
   "version": "3.6.2"
  }
 },
 "nbformat": 4,
 "nbformat_minor": 2
}
