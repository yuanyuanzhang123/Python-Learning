{
 "cells": [
  {
   "cell_type": "code",
   "execution_count": 4,
   "metadata": {},
   "outputs": [
    {
     "name": "stdout",
     "output_type": "stream",
     "text": [
      "[1, 2, 3]\n",
      "[3, 4, 5]\n",
      "0\n",
      "26\n",
      "{'spam': 1, 'eggs': 3, 'tots': 5}\n"
     ]
    }
   ],
   "source": [
    "#list\n",
    "#同时遍历两个或多个列表\n",
    "list1 = [1,2,3]\n",
    "list2 = [3,4,5]\n",
    "\n",
    "for i in list1,list2:\n",
    "    k1=i[:]\n",
    "    print(k1)\n",
    "print(asum)\n",
    "\n",
    "#1\n",
    "bsum = 0\n",
    "for n,m in zip(list1,list2):\n",
    "    bsum = bsum + n*m\n",
    "print(bsum)\n",
    "\n",
    "#使用zip构造字典\n",
    "keys = ['spam','eggs','tots']\n",
    "values = [1,3,5]\n",
    "dict_ = {}\n",
    "for (k,v) in zip(keys,values):\n",
    "    dict_[k] = v\n",
    "print(dict_)"
   ]
  },
  {
   "cell_type": "code",
   "execution_count": null,
   "metadata": {
    "collapsed": true
   },
   "outputs": [],
   "source": []
  }
 ],
 "metadata": {
  "kernelspec": {
   "display_name": "Python [conda env:py3]",
   "language": "python",
   "name": "conda-env-py3-py"
  },
  "language_info": {
   "codemirror_mode": {
    "name": "ipython",
    "version": 3
   },
   "file_extension": ".py",
   "mimetype": "text/x-python",
   "name": "python",
   "nbconvert_exporter": "python",
   "pygments_lexer": "ipython3",
   "version": "3.6.2"
  }
 },
 "nbformat": 4,
 "nbformat_minor": 2
}
