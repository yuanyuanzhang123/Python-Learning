{
 "cells": [
  {
   "cell_type": "code",
   "execution_count": 30,
   "metadata": {},
   "outputs": [
    {
     "name": "stdout",
     "output_type": "stream",
     "text": [
      "(3,)\n",
      "[3 2 1]\n",
      "(2,)\n",
      "[[3]\n",
      " [2]\n",
      " [1]]\n",
      "(3, 1)\n",
      "a:\n",
      "[[6 3]\n",
      " [4 2]\n",
      " [2 1]]\n",
      "b\n",
      "[[6 4 2]\n",
      " [3 2 1]]\n",
      "[[6 4 2]\n",
      " [3 2 1]]\n",
      "[[1 4 9]\n",
      " [1 4 9]]\n"
     ]
    },
    {
     "ename": "ValueError",
     "evalue": "operands could not be broadcast together with shapes (2,3) (3,2) ",
     "output_type": "error",
     "traceback": [
      "\u001b[1;31m---------------------------------------------------------------------------\u001b[0m",
      "\u001b[1;31mValueError\u001b[0m                                Traceback (most recent call last)",
      "\u001b[1;32m<ipython-input-30-0c6becf9d9f9>\u001b[0m in \u001b[0;36m<module>\u001b[1;34m()\u001b[0m\n\u001b[0;32m     18\u001b[0m \u001b[1;31m#print(np.multiply(c,d))\u001b[0m\u001b[1;33m\u001b[0m\u001b[1;33m\u001b[0m\u001b[0m\n\u001b[0;32m     19\u001b[0m \u001b[0me\u001b[0m \u001b[1;33m=\u001b[0m \u001b[0md\u001b[0m\u001b[1;33m.\u001b[0m\u001b[0mT\u001b[0m\u001b[1;33m\u001b[0m\u001b[0m\n\u001b[1;32m---> 20\u001b[1;33m \u001b[0mprint\u001b[0m\u001b[1;33m(\u001b[0m\u001b[0mc\u001b[0m\u001b[1;33m*\u001b[0m\u001b[0me\u001b[0m\u001b[1;33m)\u001b[0m\u001b[1;33m\u001b[0m\u001b[0m\n\u001b[0m",
      "\u001b[1;31mValueError\u001b[0m: operands could not be broadcast together with shapes (2,3) (3,2) "
     ]
    }
   ],
   "source": [
    "import numpy as np\n",
    "a = np.array([3,2,1])\n",
    "print(a.shape)\n",
    "print(a)\n",
    "b = np.array([2,1])\n",
    "print(b.shape)\n",
    "print(a[:,None])\n",
    "print(a[:,None].shape)\n",
    "print('a:')\n",
    "print(a[:,None]*b)\n",
    "print('b')\n",
    "print(a*b[:,None])\n",
    "print(b[:,None]*a)\n",
    "#print(np.multiply(a[:,None],b))\n",
    "c = np.array([[1,2,3],[1,2,3]])\n",
    "d = np.array([[1,2,3],[1,2,3]])\n",
    "print(c*d)\n",
    "#print(np.multiply(c,d))\n",
    "e = d.T\n",
    "print(c*e)\n"
   ]
  },
  {
   "cell_type": "code",
   "execution_count": 10,
   "metadata": {},
   "outputs": [
    {
     "name": "stdout",
     "output_type": "stream",
     "text": [
      "[1 2 3]\n",
      "32\n",
      "[[1]\n",
      " [2]\n",
      " [3]]\n",
      "[32]\n",
      "(2, 3)\n",
      "[[13  8  8]\n",
      " [ 8  5  5]\n",
      " [ 8  5  5]]\n"
     ]
    }
   ],
   "source": [
    "a = np.array([4,5,6])\n",
    "b = np.array([1,2,3])\n",
    "print(b)\n",
    "print(np.dot(a,b))\n",
    "e = b[:,None]\n",
    "print(e)\n",
    "print(np.dot(a,e))\n",
    "c = np.array([[2,3],[1,2],[1,2]])\n",
    "d = np.array([[2,3],[1,2],[1,2]]).T\n",
    "print(d.shape)\n",
    "print(np.dot(c,d))"
   ]
  },
  {
   "cell_type": "code",
   "execution_count": 20,
   "metadata": {},
   "outputs": [
    {
     "name": "stdout",
     "output_type": "stream",
     "text": [
      "(1, 2) (1, 3) (3, 1)\n",
      "[[2 3]\n",
      " [4 6]\n",
      " [6 9]]\n",
      "[[2 3]\n",
      " [4 6]\n",
      " [6 9]]\n",
      "[[2 4 6]\n",
      " [3 6 9]]\n",
      "[[ 5 10 15]]\n"
     ]
    }
   ],
   "source": [
    "import numpy as np\n",
    "a = np.array([[2,3]])\n",
    "b = np.array([[1,2,3]])\n",
    "d =  np.array([[1,2,3],[1,2,3]])\n",
    "c = b.T\n",
    "print(a.shape,b.shape,c.shape)\n",
    "print(a*c)\n",
    "print(np.dot(c,a))\n",
    "print(a.T*d)\n",
    "print(np.dot(a,d))"
   ]
  },
  {
   "cell_type": "code",
   "execution_count": null,
   "metadata": {
    "collapsed": true
   },
   "outputs": [],
   "source": []
  }
 ],
 "metadata": {
  "kernelspec": {
   "display_name": "Python [conda env:py3]",
   "language": "python",
   "name": "conda-env-py3-py"
  },
  "language_info": {
   "codemirror_mode": {
    "name": "ipython",
    "version": 3
   },
   "file_extension": ".py",
   "mimetype": "text/x-python",
   "name": "python",
   "nbconvert_exporter": "python",
   "pygments_lexer": "ipython3",
   "version": "3.6.2"
  }
 },
 "nbformat": 4,
 "nbformat_minor": 2
}
