{
 "cells": [
  {
   "cell_type": "markdown",
   "metadata": {},
   "source": [
    "# Counter\n",
    "使用介绍\n",
    "A Counter is a dict subclass for counting hashable objects. It is an unordered collection where elements are stored as dictionary keys and their counts are stored as dictionary values. Counts are allowed to be any integer value including zero or negative counts. \n"
   ]
  },
  {
   "cell_type": "code",
   "execution_count": 11,
   "metadata": {},
   "outputs": [
    {
     "name": "stdout",
     "output_type": "stream",
     "text": [
      "Counter({'blue': 3, 'red': 2, 'green': 1})\n",
      "['blue', 'red', 'green']\n"
     ]
    }
   ],
   "source": [
    "from collections import Counter\n",
    "cnt = Counter()\n",
    "for word in ['red', 'blue', 'red', 'green', 'blue', 'blue']:\n",
    "    cnt[word] += 1\n",
    "print(cnt)\n",
    "print(sorted(cnt,key = cnt.get,reverse=True))\n"
   ]
  },
  {
   "cell_type": "code",
   "execution_count": 2,
   "metadata": {},
   "outputs": [
    {
     "data": {
      "text/plain": [
       "[('a', 5), ('b', 2), ('r', 2)]"
      ]
     },
     "execution_count": 2,
     "metadata": {},
     "output_type": "execute_result"
    }
   ],
   "source": [
    "#most_common([n]):Return a list of the n most common elements and their counts from the most common to the least. \n",
    "#If n is omitted or None, most_common() returns all elements in the counter. \n",
    "Counter('abracadabra').most_common(3)"
   ]
  },
  {
   "cell_type": "code",
   "execution_count": 4,
   "metadata": {},
   "outputs": [
    {
     "name": "stdout",
     "output_type": "stream",
     "text": [
      "Counter({'a': 3, 'b': 0, 'c': -3, 'd': -6})\n"
     ]
    }
   ],
   "source": [
    "#substract\n",
    "c = Counter(a=4, b=2, c=0, d=-2)\n",
    "d = Counter(a=1, b=2, c=3, d=4)\n",
    "c.subtract(d)\n",
    "print(c)"
   ]
  },
  {
   "cell_type": "markdown",
   "metadata": {},
   "source": [
    "其他函数：\n",
    "sum(c.values())                 # total of all counts\n",
    "c.clear()                       # reset all counts\n",
    "list(c)                         # list unique elements\n",
    "set(c)                          # convert to a set\n",
    "dict(c)                         # convert to a regular dictionary\n",
    "c.items()                       # convert to a list of (elem, cnt) pairs\n",
    "Counter(dict(list_of_pairs))    # convert from a list of (elem, cnt) pairs\n",
    "c.most_common()[:-n-1:-1]       # n least common elements\n",
    "c += Counter()                  # remove zero and negative counts"
   ]
  },
  {
   "cell_type": "code",
   "execution_count": 24,
   "metadata": {},
   "outputs": [
    {
     "name": "stdout",
     "output_type": "stream",
     "text": [
      "1\n",
      "4\n",
      "3\n",
      "1\n",
      "3\n",
      "[['quick'], ['brown', 'brown', 'brown', 'brown'], ['fox', 'fox', 'fox', 'fox'], ['jumps', 'jumps'], ['over', 'over', 'over']] \n",
      "\n",
      "[[['brown']], [['quick', 'jumps', 'fox', 'over']], [['quick', 'jumps', 'brown', 'over']], [['fox', 'over']], [['jumps', 'brown', 'fox']]] \n",
      "\n"
     ]
    }
   ],
   "source": [
    "import numpy as np\n",
    "import tensorflow as tf\n",
    "\n",
    "def get_context(words,idx,window_size):\n",
    "    \"\"\"\n",
    "    words:输入\n",
    "    idx:input_word的索引\n",
    "    window_size:窗口大小\n",
    "    备注：python的切片不包含最右边的元素，例如a[1:3]返回a[1],a[2],而a[:3]返回前三个元素，a[0]a[1],a[2]\n",
    "    第二点就是这里的上下文不包含input_word自身\n",
    "    \"\"\"\n",
    "    target_window = np.random.randint(1,window_size+1)\n",
    "    print(target_window)\n",
    "    start = (idx - target_window ) if (idx - target_window > 0) else 0\n",
    "    end = idx + target_window\n",
    "    target_words = set(words[start:idx]+words[idx+1:end+1])\n",
    "    return list(target_words)\n",
    "\n",
    "#构建batch\n",
    "def get_batches(words,batch_size,window_size):\n",
    "    batch_num = len(set(words))//batch_size\n",
    "    words = words[:batch_num*batch_size]\n",
    "    \n",
    "    for ii in range(0,len(words),batch_size):\n",
    "        x,y=[],[]\n",
    "        batch = words[ii:ii+batch_size]\n",
    "        for idx in range(len(batch)):\n",
    "            batch_x = batch[idx]\n",
    "            batch_y = get_context(batch,idx,window_size)\n",
    "            x.append([batch_x]*len(batch_y))\n",
    "            y.append([batch_y])\n",
    "        yield x,y\n",
    "\n",
    "words=['quick', 'brown','fox', 'jumps', 'over']\n",
    "batch_size = 5\n",
    "window_size = 5\n",
    "batches = get_batches(words,batch_size,window_size)\n",
    "for x,y in batches:\n",
    "    print(x,'\\n')\n",
    "    print(y,'\\n')"
   ]
  },
  {
   "cell_type": "code",
   "execution_count": null,
   "metadata": {
    "collapsed": true
   },
   "outputs": [],
   "source": []
  }
 ],
 "metadata": {
  "kernelspec": {
   "display_name": "Python [conda env:py3]",
   "language": "python",
   "name": "conda-env-py3-py"
  },
  "language_info": {
   "codemirror_mode": {
    "name": "ipython",
    "version": 3
   },
   "file_extension": ".py",
   "mimetype": "text/x-python",
   "name": "python",
   "nbconvert_exporter": "python",
   "pygments_lexer": "ipython3",
   "version": "3.6.2"
  }
 },
 "nbformat": 4,
 "nbformat_minor": 2
}
