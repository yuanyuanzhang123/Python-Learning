{
 "cells": [
  {
   "cell_type": "raw",
   "metadata": {},
   "source": [
    "enumerate()是python的内置函数\n",
    "enumerate在字典上是枚举、列举的意思\n",
    "对于一个可迭代的（iterable）/可遍历的对象（如列表、字符串），enumerate将其组成一个索引序列，利用它可以同时获得索引和值\n",
    "enumerate多用于在for循环中得到计数\n",
    "例如对于一个seq，得到：\n",
    "\n",
    "(0, seq[0]), (1, seq[1]), (2, seq[2])"
   ]
  },
  {
   "cell_type": "code",
   "execution_count": 1,
   "metadata": {},
   "outputs": [
    {
     "name": "stdout",
     "output_type": "stream",
     "text": [
      "0 this\n",
      "1 is\n",
      "2 a\n",
      "3 test\n"
     ]
    }
   ],
   "source": [
    "#原始方法，不够高效\n",
    "list1=['this','is','a','test']\n",
    "for i in range(len(list1)):\n",
    "    print(i,list1[i])"
   ]
  },
  {
   "cell_type": "code",
   "execution_count": 4,
   "metadata": {},
   "outputs": [
    {
     "name": "stdout",
     "output_type": "stream",
     "text": [
      "0 this\n",
      "1 is\n",
      "2 a\n",
      "3 test\n"
     ]
    }
   ],
   "source": [
    "#修正\n",
    "list1=['this','is','a','test']\n",
    "for index,value in enumerate(list1):\n",
    "    print(index,value)"
   ]
  },
  {
   "cell_type": "markdown",
   "metadata": {},
   "source": [
    "enumerate还可以接收第二个参数，用于指定索引起始值"
   ]
  },
  {
   "cell_type": "code",
   "execution_count": 5,
   "metadata": {},
   "outputs": [
    {
     "name": "stdout",
     "output_type": "stream",
     "text": [
      "1 this\n",
      "2 is\n",
      "3 a\n",
      "4 test\n"
     ]
    }
   ],
   "source": [
    "list1=['this','is','a','test']\n",
    "for index,value in enumerate(list1,1):\n",
    "    print(index,value)"
   ]
  },
  {
   "cell_type": "code",
   "execution_count": null,
   "metadata": {
    "collapsed": true
   },
   "outputs": [],
   "source": []
  }
 ],
 "metadata": {
  "kernelspec": {
   "display_name": "Python [conda env:py3]",
   "language": "python",
   "name": "conda-env-py3-py"
  },
  "language_info": {
   "codemirror_mode": {
    "name": "ipython",
    "version": 3
   },
   "file_extension": ".py",
   "mimetype": "text/x-python",
   "name": "python",
   "nbconvert_exporter": "python",
   "pygments_lexer": "ipython3",
   "version": "3.6.2"
  }
 },
 "nbformat": 4,
 "nbformat_minor": 2
}
