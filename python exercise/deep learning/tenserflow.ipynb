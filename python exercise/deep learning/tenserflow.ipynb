{
 "cells": [
  {
   "cell_type": "code",
   "execution_count": 1,
   "metadata": {},
   "outputs": [
    {
     "name": "stdout",
     "output_type": "stream",
     "text": [
      "b'Hello World!'\n"
     ]
    }
   ],
   "source": [
    "import tensorflow as tf\n",
    "\n",
    "# Create TensorFlow object called tensor\n",
    "hello_constant = tf.constant('Hello World!')\n",
    "\n",
    "with tf.Session() as sess:\n",
    "    # Run the tf.constant operation in the session\n",
    "    output = sess.run(hello_constant)\n",
    "    print(output)"
   ]
  },
  {
   "cell_type": "code",
   "execution_count": 5,
   "metadata": {},
   "outputs": [
    {
     "name": "stdout",
     "output_type": "stream",
     "text": [
      "1\n",
      "2\n",
      "3\n"
     ]
    }
   ],
   "source": [
    "import tensorflow as tf\n",
    "#创建变量\n",
    "state = tf.Variable(0,name='counter')\n",
    "value = tf.constant(1) #创建一个常量\n",
    "new_value = tf.add(state,value) #相加\n",
    "update = tf.assign(state,new_value)#将new_value更新到state\n",
    "\n",
    "init = tf.global_variables_initializer()#初始化所有的变量，只要定义了变量就一定需要这个\n",
    "\n",
    "with tf.Session() as sess:\n",
    "    sess.run(init)\n",
    "    for _ in range(3):\n",
    "        sess.run(update)\n",
    "        print(sess.run(state))"
   ]
  },
  {
   "cell_type": "code",
   "execution_count": 10,
   "metadata": {},
   "outputs": [
    {
     "name": "stdout",
     "output_type": "stream",
     "text": [
      "[ 10.]\n",
      "hello world\n"
     ]
    }
   ],
   "source": [
    "#运行的时候才初始化值\n",
    "#placeholder & feed_dict绑定使用,feed_dict是字典的形式初始化\n",
    "input1 = tf.placeholder(tf.float32) #一般默认的都是float32\n",
    "input2 = tf.placeholder(tf.float32)\n",
    "output = tf.multiply(input1,input2)\n",
    "\n",
    "with tf.Session() as sess:\n",
    "    print(sess.run(output,feed_dict={input1:[2.],input2:[5.]}))B\n",
    "    \n",
    "x = tf.placeholder(tf.string)\n",
    "with tf.Session() as sess:\n",
    "    print(sess.run(x,feed_dict={x:'hello world'}))"
   ]
  },
  {
   "cell_type": "code",
   "execution_count": 12,
   "metadata": {},
   "outputs": [
    {
     "name": "stdout",
     "output_type": "stream",
     "text": [
      "1\n"
     ]
    }
   ],
   "source": [
    "#数据类型强制转换\n",
    "#y = tf.subtract(tf.constant(2.0),tf.constant(1)) #这种浮点数和整数数据类型不一致无法运算，需要强制转换\n",
    "y = tf.subtract(tf.cast(tf.constant(2.0),tf.int32),tf.constant(1))\n",
    "with tf.Session() as sess:\n",
    "    print(sess.run(y))"
   ]
  },
  {
   "cell_type": "code",
   "execution_count": 14,
   "metadata": {},
   "outputs": [
    {
     "name": "stdout",
     "output_type": "stream",
     "text": [
      "4.0\n",
      "4.0\n"
     ]
    }
   ],
   "source": [
    "# Solution is available in the other \"solution.py\" tab\n",
    "import tensorflow as tf\n",
    "\n",
    "# TODO: Convert the following to TensorFlow:\n",
    "x = 10\n",
    "y = 2\n",
    "z = x/y - 1\n",
    "print(z)\n",
    "# TODO: Print z from a session\n",
    "x = tf.constant(10)\n",
    "y = tf.constant(2)\n",
    "\n",
    "z = tf.subtract(tf.divide(x,y),1)\n",
    "with tf.Session() as sess:\n",
    "    print(sess.run(z))"
   ]
  },
  {
   "cell_type": "code",
   "execution_count": 23,
   "metadata": {},
   "outputs": [
    {
     "name": "stdout",
     "output_type": "stream",
     "text": [
      "[[1 2 3]\n",
      " [2 4 6]]\n"
     ]
    }
   ],
   "source": [
    "import numpy as np\n",
    "w = np.array([[1,2,3]])\n",
    "h = np.array([1,2])\n",
    "print(np.dot(h[:,None],w))"
   ]
  },
  {
   "cell_type": "markdown",
   "metadata": {},
   "source": [
    "## Tensorflow\n",
    "下面使用了两个不同地方学习的tensorflow构建神经网络的过程学习。"
   ]
  },
  {
   "cell_type": "code",
   "execution_count": 43,
   "metadata": {},
   "outputs": [
    {
     "name": "stdout",
     "output_type": "stream",
     "text": [
      "(300, 1)\n",
      "(300, 1)\n",
      "(1, 10) (1, 10)\n",
      "output.shape: (?, 10)\n",
      "(10, 1) (1, 1)\n",
      "output.shape: (?, 1)\n"
     ]
    },
    {
     "data": {
      "image/png": "[encoded data removed]",
      "text/plain": [
       "<matplotlib.figure.Figure at 0xeb95048>"
      ]
     },
     "metadata": {},
     "output_type": "display_data"
    }
   ],
   "source": [
    "#使用tensorflow添加神经网络层\n",
    "import numpy as np\n",
    "import tensorflow as tf\n",
    "import matplotlib.pyplot as plt\n",
    "def add_layer(inputs,in_size,out_size,activate_function = None):\n",
    "    Weights = tf.Variable(tf.random_normal([in_size,out_size]))\n",
    "    biais = tf.Variable(tf.zeros([1,out_size]) + 0.1) #因为最好不要为0\n",
    "    print(Weights.shape,biais.shape)\n",
    "    \"\"\"\n",
    "    !!!下面y=xw+b，一定是(inputs,weights)否则相乘的结果不对就会报错,\n",
    "    但是这里报错很奇怪，竟然(1,10)*(300,1)竟然也能成功，所以还不容易发现错误\n",
    "    \"\"\"\n",
    "    Wx_add_b = tf.matmul(inputs,Weights) + biais  \n",
    "    if activate_function is None:\n",
    "        output = Wx_add_b\n",
    "    else:\n",
    "        output = activate_function(Wx_add_b)\n",
    "    print('output.shape:',output.shape)\n",
    "    return output\n",
    "\n",
    "x_data = np.linspace(-1,1,300)[:,np.newaxis]\n",
    "print(x_data.shape)\n",
    "#添加噪音\n",
    "noise = np.random.normal(0,0.05,x_data.shape)  #(mean,std,scale)\n",
    "y_data = np.square(x_data) -0.5 + noise\n",
    "print(y_data.shape)\n",
    "xs = tf.placeholder(tf.float32,[None,1])#设定为可以接受任意行1列\n",
    "ys = tf.placeholder(tf.float32,[None,1])\n",
    "#构建神经网络 输入层1 隐藏层10 输出层1\n",
    "l1 = add_layer(xs,1,10,activate_function=tf.nn.relu)\n",
    "prediction = add_layer(l1,10,1,activate_function=None)\n",
    "\n",
    "loss = tf.reduce_mean(tf.reduce_sum(tf.square(ys - prediction),reduction_indices=[1]))\n",
    "train_step = tf.train.GradientDescentOptimizer(0.1).minimize(loss)#0.1为learning rate，训练目的是减小loss\n",
    "\n",
    "init = tf.global_variables_initializer()\n",
    "\n",
    "#加上显示\n",
    "fig = plt.figure()\n",
    "ax = fig.add_subplot(1,1,1)\n",
    "ax.scatter(x_data,y_data)#使用点来表示数据\n",
    "plt.ion()#可以让程序在show之后不会暂停，继续运行\n",
    "#plt.show(block = False)\n",
    "\n",
    "with tf.Session() as sess:\n",
    "    sess.run(init)\n",
    "    for i in range(1000):\n",
    "        sess.run(train_step,feed_dict={xs:x_data,ys:y_data})\n",
    "        if i%20 == 0:\n",
    "            #print(sess.run(loss,feed_dict={xs:x_data,ys:y_data}))\n",
    "            try:\n",
    "                ax.lines.remove(lines[0]) #每次循环画了一条直线后下次需要将上次的线删除，这里选择先删除上一条再画\n",
    "            except Exception:\n",
    "                pass\n",
    "            prediction_value = sess.run(prediction,feed_dict={xs:x_data})\n",
    "            lines = ax.plot(x_data,prediction_value,'r-',lw=5)#横坐标，纵坐标，颜色，线的宽度 \n",
    "            plt.pause(0.1)#每次画完暂停0.1s\n",
    "\n",
    "        \n",
    "    \n"
   ]
  },
  {
   "cell_type": "code",
   "execution_count": 9,
   "metadata": {},
   "outputs": [
    {
     "name": "stdout",
     "output_type": "stream",
     "text": [
      "(784, 3) (3,)\n",
      "<unknown>\n",
      "Extracting /datasets/ud730/mnist\\train-images-idx3-ubyte.gz\n",
      "Extracting /datasets/ud730/mnist\\train-labels-idx1-ubyte.gz\n",
      "Extracting /datasets/ud730/mnist\\t10k-images-idx3-ubyte.gz\n",
      "Extracting /datasets/ud730/mnist\\t10k-labels-idx1-ubyte.gz\n",
      "Loss: 9.445173263549805\n"
     ]
    }
   ],
   "source": [
    "# 来自课程deep learning\n",
    "#数据源是mnist的0，1，2三个数的识别\n",
    "import tensorflow as tf\n",
    "\n",
    "def get_weights(n_features, n_labels):\n",
    "    \"\"\"\n",
    "    Return TensorFlow weights\n",
    "    :param n_features: Number of features\n",
    "    :param n_labels: Number of labels\n",
    "    :return: TensorFlow weights\n",
    "    \"\"\"\n",
    "    # TODO: Return weights\n",
    "    weights = tf.Variable(tf.truncated_normal((n_features,n_labels),name='weights'))\n",
    "    return weights\n",
    "\n",
    "\n",
    "def get_biases(n_labels):\n",
    "    \"\"\"\n",
    "    Return TensorFlow bias\n",
    "    :param n_labels: Number of labels\n",
    "    :return: TensorFlow bias\n",
    "    \"\"\"\n",
    "    # TODO: Return biases\n",
    "    biases = tf.Variable(tf.zeros(n_labels),name = 'biasis')\n",
    "    return biases\n",
    "\n",
    "\n",
    "def linear(inputs, w, b):\n",
    "    \"\"\"\n",
    "    Return linear function in TensorFlow\n",
    "    :param input: TensorFlow input\n",
    "    :param w: TensorFlow weights\n",
    "    :param b: TensorFlow biases\n",
    "    :return: TensorFlow linear function\n",
    "    \"\"\"\n",
    "    # TODO: Linear Function (xW + b)\n",
    "    print(inputs.shape)\n",
    "    output = tf.add(tf.matmul(inputs,w),b)\n",
    "    return output\n",
    "\n",
    "# Solution is available in the other \"sandbox_solution.py\" tab\n",
    "import tensorflow as tf\n",
    "from tensorflow.examples.tutorials.mnist import input_data\n",
    "#from quiz import get_weights, get_biases, linear\n",
    "\n",
    "\n",
    "def mnist_features_labels(n_labels):\n",
    "    \"\"\"\n",
    "    Gets the first <n> labels from the MNIST dataset\n",
    "    :param n_labels: Number of labels to use\n",
    "    :return: Tuple of feature list and label list\n",
    "    \"\"\"\n",
    "    mnist_features = []\n",
    "    mnist_labels = []\n",
    "\n",
    "    mnist = input_data.read_data_sets('/datasets/ud730/mnist', one_hot=True)\n",
    "\n",
    "    # In order to make quizzes run faster, we're only looking at 10000 images\n",
    "    for mnist_feature, mnist_label in zip(*mnist.train.next_batch(10000)):\n",
    "\n",
    "        # Add features and labels if it's for the first <n>th labels\n",
    "        if mnist_label[:n_labels].any():\n",
    "            mnist_features.append(mnist_feature)\n",
    "            mnist_labels.append(mnist_label[:n_labels])\n",
    "\n",
    "    return mnist_features, mnist_labels\n",
    "\n",
    "\n",
    "# Number of features (28*28 image is 784 features)\n",
    "n_features = 784\n",
    "# Number of labels\n",
    "n_labels = 3\n",
    "\n",
    "# Features and Labels\n",
    "with tf.name_scope('inputs') as scope:\n",
    "    features = tf.placeholder(tf.float32,name='features')\n",
    "    labels = tf.placeholder(tf.float32,name='labels')\n",
    "with tf.name_scope('layer') as scope:\n",
    "    # Weights and Biases\n",
    "    w = get_weights(n_features, n_labels)\n",
    "    b = get_biases(n_labels)\n",
    "print(w.shape,b.shape)\n",
    "# Linear Function xW + b\n",
    "with tf.name_scope('output') as scope:\n",
    "    logits = linear(features, w, b)\n",
    "\n",
    "# Training data\n",
    "train_features, train_labels = mnist_features_labels(n_labels)\n",
    "###这里的神经网络只有一层，就是将输入linear后使用activate function得到output\n",
    "#merged = tf.merge_all_summaries()  \n",
    "\n",
    "with tf.Session() as session:\n",
    "    # TODO: Initialize session variables\n",
    "    init = tf.global_variables_initializer()\n",
    "    session.run(init)\n",
    "    # Softmax\n",
    "    prediction = tf.nn.softmax(logits)\n",
    "    #print(prediction.shape)\n",
    "    # Cross entropy\n",
    "    # This quantifies how far off the predictions were.\n",
    "    # You'll learn more about this in future lessons.\n",
    "    cross_entropy = -tf.reduce_sum(labels * tf.log(prediction), reduction_indices=1)\n",
    "\n",
    "    # Training loss\n",
    "    # You'll learn more about this in future lessons.\n",
    "    loss = tf.reduce_mean(cross_entropy)\n",
    "\n",
    "    # Rate at which the weights are changed\n",
    "    # You'll learn more about this in future lessons.\n",
    "    learning_rate = 0.0001\n",
    "\n",
    "    # Gradient Descent\n",
    "    # This is the method used to train the model\n",
    "    # You'll learn more about this in future lessons.\n",
    "    optimizer = tf.train.GradientDescentOptimizer(learning_rate).minimize(loss)\n",
    "\n",
    "    # Run optimizer and get loss\n",
    "    _, l = session.run(\n",
    "        [optimizer, loss],\n",
    "        feed_dict={features: train_features, labels: train_labels})\n",
    "    \n",
    "    summary_writer = tf.summary.FileWriter('C:/git/cn-deep-learning/learning-practice/tmp', session.graph)\n",
    "    \n",
    "   # result = sess.run(merged) #merged也是需要run的  \n",
    "   ## writer.add_summary(result)  \n",
    "    \n",
    "# Print loss\n",
    "summary_writer.close()\n",
    "print('Loss: {}'.format(l))\n"
   ]
  },
  {
   "cell_type": "code",
   "execution_count": null,
   "metadata": {
    "collapsed": true
   },
   "outputs": [],
   "source": []
  }
 ],
 "metadata": {
  "kernelspec": {
   "display_name": "Python [conda env:py3]",
   "language": "python",
   "name": "conda-env-py3-py"
  },
  "language_info": {
   "codemirror_mode": {
    "name": "ipython",
    "version": 3
   },
   "file_extension": ".py",
   "mimetype": "text/x-python",
   "name": "python",
   "nbconvert_exporter": "python",
   "pygments_lexer": "ipython3",
   "version": "3.6.2"
  }
 },
 "nbformat": 4,
 "nbformat_minor": 2
}
