{
 "cells": [
  {
   "attachments": {},
   "cell_type": "markdown",
   "metadata": {},
   "source": [
    "### tf.argmax&tf.equal\n",
    "tf.argmax(input, axis=None, name=None, dimension=None)\n",
    "\n",
    "此函数是对矩阵按行或列计算最大值\n",
    "\n",
    "参数\n",
    "input：输入Tensor\n",
    "axis：0表示按列，1表示按行\n",
    "name：名称\n",
    "dimension：和axis功能一样，默认axis取值优先。新加的字段\n",
    "返回：Tensor  一般是行或列的最大值下标向量\n",
    "\n",
    "tf.argmax就是按行或者列返回最大的那个下标（从0开始）\n",
    "\n"
   ]
  },
  {
   "cell_type": "code",
   "execution_count": 6,
   "metadata": {},
   "outputs": [
    {
     "name": "stdout",
     "output_type": "stream",
     "text": [
      "[[-0.64484978  0.794276   -0.06333113  0.10110617]\n",
      " [ 0.06428528  0.37692761 -0.87432313 -0.34467506]\n",
      " [ 0.33612418  0.14210582 -0.31081629  0.13005662]]\n",
      "[2 0 0 2]\n",
      "[1 1 0]\n"
     ]
    }
   ],
   "source": [
    "import tensorflow as tf  \n",
    "  \n",
    "t=tf.get_variable(name='t',  \n",
    "                  shape=[3,4],  \n",
    "                  dtype=tf.float32,  \n",
    "                  initializer=tf.random_uniform_initializer(minval=-1,maxval=1))  \n",
    "b=tf.argmax(input=t,axis=0)  \n",
    "c=tf.argmax(input=t,dimension=1)   #此处用dimesion或用axis是一样的  \n",
    "sess = tf.InteractiveSession()  \n",
    "sess.run(tf.global_variables_initializer())  \n",
    "print(sess.run(t))  \n",
    "#[[ 0.04261756 -0.34297419 -0.87816691 -0.15430689]  \n",
    "# [ 0.18663144  0.86972666 -0.06103253  0.38307118]  \n",
    "# [ 0.84588599 -0.45432305 -0.39736366  0.38526249]]  \n",
    "print(sess.run(b))  \n",
    "#[2 1 1 2]  \n",
    "print(sess.run(c))  \n",
    "#[0 1 0]  "
   ]
  },
  {
   "cell_type": "markdown",
   "metadata": {},
   "source": [
    "一般情况下计算accuracy:\n",
    "\n",
    "correct_pred = tf.equal(tf.argmax(z,1), tf.argmax(y,1))\n",
    "就是分别求预测值和实际labels的按列轴求最大值的那个下标，然后equal比较预测值和实际结果是否一致。\n",
    "\n",
    "上面这行代码会给我们一组布尔值。为了确定正确预测项的比例，我们可以用tf.cast把布尔值转换成浮点数，然后取平均值。\n",
    "\n",
    "accuracy = tf.reduce_mean(tf.cast(correct_pred, tf.float32))\n",
    "\n",
    "\n"
   ]
  },
  {
   "cell_type": "code",
   "execution_count": 12,
   "metadata": {},
   "outputs": [
    {
     "name": "stdout",
     "output_type": "stream",
     "text": [
      "[False  True  True  True  True  True]\n",
      "0.833333\n"
     ]
    }
   ],
   "source": [
    "import tensorflow as tf\n",
    "import numpy as np\n",
    "pred = np.array([[31, 23,  4, 24, 27, 34],\n",
    "                [18,  3, 25,  0,  6, 35],\n",
    "                [28, 14, 33, 22, 20,  8],\n",
    "                [13, 30, 21, 19,  7,  9],\n",
    "                [16,  1, 26, 32,  2, 29],\n",
    "                [17, 12,  5, 11, 10, 15]])\n",
    "\n",
    "y = np.array([[31, 23,  4, 23, 27, 3],\n",
    "                [18,  3, 25,  0,  6, 35],\n",
    "                [28, 14, 33, 22, 20,  8],\n",
    "                [13, 30, 21, 19,  7,  9],\n",
    "                [16,  1, 26, 32,  2, 29],\n",
    "                [17, 12,  5, 11, 10, 15]])\n",
    "correct = tf.equal(tf.argmax(pred,1),tf.argmax(y,1))\n",
    "\n",
    "accuracy = tf.reduce_mean(tf.cast(correct,\"float\"))\n",
    "\n",
    "sess = tf.Session()  \n",
    "sess.run(tf.global_variables_initializer())  \n",
    "print(sess.run(correct))  \n",
    "print(sess.run(accuracy))\n"
   ]
  },
  {
   "cell_type": "code",
   "execution_count": null,
   "metadata": {
    "collapsed": true
   },
   "outputs": [],
   "source": []
  }
 ],
 "metadata": {
  "kernelspec": {
   "display_name": "Python 3",
   "language": "python",
   "name": "python3"
  },
  "language_info": {
   "codemirror_mode": {
    "name": "ipython",
    "version": 3
   },
   "file_extension": ".py",
   "mimetype": "text/x-python",
   "name": "python",
   "nbconvert_exporter": "python",
   "pygments_lexer": "ipython3",
   "version": "3.6.2"
  }
 },
 "nbformat": 4,
 "nbformat_minor": 2
}
