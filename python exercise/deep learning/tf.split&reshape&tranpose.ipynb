{
 "cells": [
  {
   "cell_type": "markdown",
   "metadata": {},
   "source": [
    "## tf.split\n"
   ]
  },
  {
   "cell_type": "markdown",
   "metadata": {},
   "source": [
    "tf.split返回的是一个list，例如[128*28,128]使用tf.split(a,28,0)则结果是28*(128*128)\n",
    "\n",
    "ValueError: Shape (128, ?) must have rank at least 3\n",
    "\n",
    "在使用时会出错\n",
    "\n",
    "使用tf.reshape(28,-1,128)则可以解决这个问题"
   ]
  },
  {
   "cell_type": "code",
   "execution_count": 2,
   "metadata": {},
   "outputs": [
    {
     "name": "stdout",
     "output_type": "stream",
     "text": [
      "(3, 1, 2)\n",
      "[<tf.Tensor 'split_1:0' shape=(3, 1, 2) dtype=int32>]\n"
     ]
    }
   ],
   "source": [
    "import tensorflow as tf\n",
    "import numpy as np\n",
    "a = np.array([[[1,2]],[[3,4]],[[5,6]]])\n",
    "print(a.shape)\n",
    "b = np.array(tf.split(a,1,0))\n",
    "print(b)"
   ]
  },
  {
   "cell_type": "markdown",
   "metadata": {},
   "source": [
    "在tensorflow中，尤其是一些输入和输入的处理，例如进入全连接层的时候要合并，出来的时候要展开等，可以使用\n",
    "re1 = tf.reshape(h2d, [-1, num_units])这样的合并两个维度\n",
    "还有置换两个维度可以使用tf.transpose"
   ]
  },
  {
   "cell_type": "code",
   "execution_count": 13,
   "metadata": {},
   "outputs": [
    {
     "name": "stdout",
     "output_type": "stream",
     "text": [
      "(1, 2, 3)\n",
      "Tensor(\"Reshape_8:0\", shape=(2, 3), dtype=int32)\n",
      "[2, 3]\n",
      "[1, 2, 3]\n",
      "[2, 1, 3]\n"
     ]
    }
   ],
   "source": [
    "import numpy as np\n",
    "import tensorflow as tf\n",
    "\n",
    "h2d=np.array([[[1,2,3],[4,5,6]]])\n",
    "print(h2d.shape)\n",
    "n_samples = h2d.shape[0]\n",
    "n_steps = h2d.shape[1]\n",
    "num_units = h2d.shape[2]\n",
    "# 将输入数据从[n_samples, n_steps, D_input]，reshape成[n_samples*n_steps, D_input]\n",
    "re1 = tf.reshape(h2d, [-1, num_units])\n",
    "\n",
    "# 将输入数据从[n_samples*n_steps, D_input]，reshape成[n_samples, n_steps, D_input]\n",
    "# 用于双向rnn layer的使用\n",
    "re2 = tf.reshape(h2d, [n_samples,n_steps, num_units])\n",
    "\n",
    "# 将数据从[n_samples, n_steps, D_input]，转换成[n_steps, n_samples, D_input]\n",
    "inputs_T = tf.transpose(re2, perm=[1,0,2])\n",
    "\n",
    "with tf.Session() as sess:\n",
    "    sess.run(re1)\n",
    "    print(re1)\n",
    "    print(re1.get_shape().as_list())\n",
    "    sess.run(re2)\n",
    "    print(re2.get_shape().as_list())\n",
    "    sess.run(inputs_T)\n",
    "    print(inputs_T.get_shape().as_list())"
   ]
  },
  {
   "cell_type": "code",
   "execution_count": null,
   "metadata": {
    "collapsed": true
   },
   "outputs": [],
   "source": []
  }
 ],
 "metadata": {
  "kernelspec": {
   "display_name": "Python (myp3>",
   "language": "python",
   "name": "myp3"
  },
  "language_info": {
   "codemirror_mode": {
    "name": "ipython",
    "version": 3
   },
   "file_extension": ".py",
   "mimetype": "text/x-python",
   "name": "python",
   "nbconvert_exporter": "python",
   "pygments_lexer": "ipython3",
   "version": "3.6.2"
  }
 },
 "nbformat": 4,
 "nbformat_minor": 2
}
