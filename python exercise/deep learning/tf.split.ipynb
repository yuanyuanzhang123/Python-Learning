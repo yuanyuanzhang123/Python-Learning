{
 "cells": [
  {
   "cell_type": "markdown",
   "metadata": {},
   "source": [
    "## tf.split\n"
   ]
  },
  {
   "cell_type": "markdown",
   "metadata": {},
   "source": [
    "tf.split返回的是一个list，例如[128*28,128]使用tf.split(a,28,0)则结果是28*(128*128)\n",
    "\n",
    "ValueError: Shape (128, ?) must have rank at least 3\n",
    "\n",
    "在使用时会出错\n",
    "\n",
    "使用tf.reshape(28,-1,128)则可以解决这个问题"
   ]
  },
  {
   "cell_type": "code",
   "execution_count": 2,
   "metadata": {},
   "outputs": [
    {
     "name": "stdout",
     "output_type": "stream",
     "text": [
      "(3, 1, 2)\n",
      "[<tf.Tensor 'split_1:0' shape=(3, 1, 2) dtype=int32>]\n"
     ]
    }
   ],
   "source": [
    "import tensorflow as tf\n",
    "import numpy as np\n",
    "a = np.array([[[1,2]],[[3,4]],[[5,6]]])\n",
    "print(a.shape)\n",
    "b = np.array(tf.split(a,1,0))\n",
    "print(b)"
   ]
  },
  {
   "cell_type": "code",
   "execution_count": null,
   "metadata": {
    "collapsed": true
   },
   "outputs": [],
   "source": []
  }
 ],
 "metadata": {
  "kernelspec": {
   "display_name": "Python (myp3>",
   "language": "python",
   "name": "myp3"
  },
  "language_info": {
   "codemirror_mode": {
    "name": "ipython",
    "version": 3
   },
   "file_extension": ".py",
   "mimetype": "text/x-python",
   "name": "python",
   "nbconvert_exporter": "python",
   "pygments_lexer": "ipython3",
   "version": "3.6.2"
  }
 },
 "nbformat": 4,
 "nbformat_minor": 2
}
