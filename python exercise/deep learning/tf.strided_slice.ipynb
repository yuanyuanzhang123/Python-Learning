{
 "cells": [
  {
   "cell_type": "markdown",
   "metadata": {},
   "source": [
    "### tf.strided_slice\n",
    "strided_slice这个函数实际上是tf的slice函数\n",
    "\n",
    "strided_slice(\n",
    "    input_,\n",
    "    begin,\n",
    "    end,\n",
    "    strides=None,\n",
    "    begin_mask=0,\n",
    "    end_mask=0,\n",
    "    ellipsis_mask=0,\n",
    "    new_axis_mask=0,\n",
    "    shrink_axis_mask=0,\n",
    "    var=None,\n",
    "    name=None\n",
    ")\n",
    "\n",
    "简单来看这个函数重点在于前四个参数：\n",
    "\n",
    "第一个是输入数据\n",
    "\n",
    "第二个是开始切片的地方\n",
    "\n",
    "第三个是终止切片的地方\n",
    "\n",
    "第四个是步长"
   ]
  },
  {
   "cell_type": "code",
   "execution_count": 9,
   "metadata": {},
   "outputs": [
    {
     "name": "stdout",
     "output_type": "stream",
     "text": [
      "[[[3 3 3]]]\n",
      "[[[3 3 3]\n",
      "  [4 4 4]]]\n",
      "[[[4 4 4]\n",
      "  [3 3 3]]]\n"
     ]
    }
   ],
   "source": [
    "import tensorflow as tf\n",
    "import numpy as np\n",
    "inputs = np.array([[[1, 1, 1], [2, 2, 2]], [[3, 3, 3], [4, 4, 4]], [[5, 5, 5], [6, 6, 6]]])\n",
    "# 'input' is [[[1, 1, 1], [2, 2, 2]],\n",
    "#             [[3, 3, 3], [4, 4, 4]],\n",
    "#             [[5, 5, 5], [6, 6, 6]]]\n",
    "re1 = tf.strided_slice(inputs, [1, 0, 0], [2, 1, 3], [1, 1, 1])\n",
    "re2  = tf.strided_slice(inputs, [1, 0, 0], [2, 2, 3], [1, 1, 1])\n",
    "re3 = tf.strided_slice(inputs, [1, -1, 0], [2, -3, 3], [1, -1, 1]) \n",
    "with tf.Session() as sess:\n",
    "    print(sess.run(re1))\n",
    "    print(sess.run(re2))\n",
    "    print(sess.run(re3))\n"
   ]
  },
  {
   "cell_type": "code",
   "execution_count": 10,
   "metadata": {},
   "outputs": [
    {
     "name": "stdout",
     "output_type": "stream",
     "text": [
      "[1 2 3 4]\n",
      "[2 3 4 5]\n"
     ]
    }
   ],
   "source": [
    "data = [1,2,3,4,5,6,7,8]\n",
    "x = tf.strided_slice(data,[0],[4])\n",
    "y = tf.strided_slice(data,[1],[5])\n",
    "with tf.Session() as sess:\n",
    "    print(sess.run(x))\n",
    "    print(sess.run(y))"
   ]
  },
  {
   "cell_type": "markdown",
   "metadata": {},
   "source": [
    "'input'= [[[1, 1, 1], [2, 2, 2]],\n",
    "             [[3, 3, 3], [4, 4, 4]],\n",
    "             [[5, 5, 5], [6, 6, 6]]]\n",
    "             \n",
    "来把输入变个型,可以看成3维的tensor,从外向为1,2,3维\n",
    "\n",
    "[\n",
    "\n",
    "     [\n",
    "     \n",
    "          [1,1,1]\n",
    "          \n",
    "          [2,2,2]\n",
    "          \n",
    "     ]\n",
    "     \n",
    "     [\n",
    "         [3,3,3]\n",
    "         \n",
    "         [4,4,4]\n",
    "     ]\n",
    "     \n",
    "     [\n",
    "         [5,5,5]\n",
    "         \n",
    "         [6,6,6]\n",
    "     ]\n",
    "]\n",
    "以tf.strided_slice(input, [0,0,0], [2,2,2], [1,2,1])调用为例,start = [0,0,0] , end = [2,2,2], stride = [1,2,1],求一个[start, end)的一个片段,注意end为开区间\n",
    "\n",
    "第1维 start = 0 , end = 2, stride = 1, 所以取 0 , 1行，此时的输出\n",
    "\n",
    "output1=\n",
    "[\n",
    "\n",
    "     [\n",
    "     \n",
    "          [1,1,1]\n",
    "          \n",
    "          [2,2,2]\n",
    "     ]\n",
    "     \n",
    "     [\n",
    "     \n",
    "         [3,3,3]\n",
    "         \n",
    "         [4,4,4]\n",
    "         \n",
    "     ]\n",
    "]\n",
    "第2维时, start = 0 , end = 2 , stride = 2, 所以只能取0行,此时的输出\n",
    "\n",
    "output2=\n",
    "[\n",
    "     [\n",
    "     \n",
    "          [1,1,1]\n",
    "          \n",
    "     ]\n",
    "     \n",
    "     [\n",
    "     \n",
    "         [3,3,3]\n",
    "     ]\n",
    "     \n",
    "]\n",
    "\n",
    "第3维的时候,start = 0, end = 2, stride = 1, 可以取0,1行,此时得到的就是最后的输出\n",
    "[\n",
    "\n",
    "     [\n",
    "     \n",
    "          [1,1]\n",
    "     ]\n",
    "     \n",
    "     [\n",
    "     \n",
    "         [3,3]\n",
    "         \n",
    "     ]\n",
    "     \n",
    "]\n",
    "\n",
    "整理之后最终的输出为:\n",
    "\n",
    "[[[1,1],[3,3]]]"
   ]
  },
  {
   "cell_type": "code",
   "execution_count": null,
   "metadata": {
    "collapsed": true
   },
   "outputs": [],
   "source": []
  }
 ],
 "metadata": {
  "kernelspec": {
   "display_name": "Python 3",
   "language": "python",
   "name": "python3"
  },
  "language_info": {
   "codemirror_mode": {
    "name": "ipython",
    "version": 3
   },
   "file_extension": ".py",
   "mimetype": "text/x-python",
   "name": "python",
   "nbconvert_exporter": "python",
   "pygments_lexer": "ipython3",
   "version": "3.6.2"
  }
 },
 "nbformat": 4,
 "nbformat_minor": 2
}
